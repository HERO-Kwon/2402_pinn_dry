{
 "cells": [
  {
   "cell_type": "code",
   "execution_count": 26,
   "metadata": {},
   "outputs": [],
   "source": [
    "import os\n",
    "import numpy as np\n",
    "import pandas as pd\n",
    "import matplotlib.pyplot as plt\n",
    "from scipy import io"
   ]
  },
  {
   "cell_type": "code",
   "execution_count": 27,
   "metadata": {},
   "outputs": [],
   "source": [
    "# dataset path\n",
    "data_root = '/home/hero/Data/heat_layout_data/200x200_0.045_0.055/simple_component/FDM'\n",
    "train_list = '/home/hero/Data/heat_layout_data/train.txt'\n",
    "\n",
    "nse_geom_path = '/home/hero/Data/heat_layout_data/200x200_0.045_0.055/nse_geom'"
   ]
  },
  {
   "cell_type": "code",
   "execution_count": 28,
   "metadata": {},
   "outputs": [],
   "source": [
    "mat1 = os.listdir(data_root + '/train')[0]\n",
    "mat_file = io.loadmat(data_root + '/train/' + mat1)"
   ]
  },
  {
   "cell_type": "code",
   "execution_count": 29,
   "metadata": {},
   "outputs": [
    {
     "data": {
      "image/png": "[encoded data removed]",
      "text/plain": [
       "<Figure size 800x600 with 2 Axes>"
      ]
     },
     "metadata": {},
     "output_type": "display_data"
    }
   ],
   "source": [
    "matrix = mat_file['F']\n",
    "# 히트맵 그리기 함수\n",
    "def plot_heatmap(matrix):\n",
    "    plt.figure(figsize=(8, 6))\n",
    "    plt.imshow(matrix, cmap='viridis', interpolation='nearest')\n",
    "    plt.colorbar()  # 색상 막대 추가\n",
    "    plt.title('Heatmap of 2D Matrix')\n",
    "    plt.xlabel('Column')\n",
    "    plt.ylabel('Row')\n",
    "    plt.show()\n",
    "\n",
    "# 히트맵 그리기\n",
    "plot_heatmap(matrix)"
   ]
  },
  {
   "cell_type": "code",
   "execution_count": 30,
   "metadata": {},
   "outputs": [
    {
     "data": {
      "text/plain": [
       "'\\n0: non-slip\\n1: interior\\n2: inlet\\n3: outlet\\n'"
      ]
     },
     "execution_count": 30,
     "metadata": {},
     "output_type": "execute_result"
    }
   ],
   "source": [
    "# make geometry\n",
    "'''\n",
    "0: non-slip\n",
    "1: interior\n",
    "2: inlet\n",
    "3: outlet\n",
    "'''"
   ]
  },
  {
   "cell_type": "code",
   "execution_count": 50,
   "metadata": {},
   "outputs": [],
   "source": [
    "def make_nse_geom(mat_file):\n",
    "    geom = mat_file['F']\n",
    "    # 0보다 큰 모든 수를 1로 변환\n",
    "    geom[geom > 0] = -1\n",
    "    geom = geom + 1 \n",
    "    geom[0,:] = 0\n",
    "    geom[-1,:] = 0\n",
    "    \n",
    "    # non slip,interior\n",
    "    geom[:,0] = 2\n",
    "    geom[:,-1] = 3\n",
    "\n",
    "    mat_file['F'] = geom\n",
    "\n",
    "    # 배열을 수직으로 스택\n",
    "    nse_arr = np.stack((geom, geom, geom), axis=0)\n",
    "\n",
    "    # inlet\n",
    "    index = np.where(geom==2)\n",
    "    nse_arr[0,index[0],index[1]] = 3\n",
    "    nse_arr[1,index[0],index[1]] = 0\n",
    "    nse_arr[2,index[0],index[1]] = 1\n",
    "\n",
    "    # outlet\n",
    "    index = np.where(geom==3)\n",
    "    nse_arr[0,index[0],index[1]] = 1\n",
    "    nse_arr[1,index[0],index[1]] = 1\n",
    "    nse_arr[2,index[0],index[1]] = 0\n",
    "\n",
    "    mat_file['u'] = nse_arr\n",
    "    \n",
    "    return mat_file"
   ]
  },
  {
   "cell_type": "code",
   "execution_count": 51,
   "metadata": {},
   "outputs": [
    {
     "name": "stderr",
     "output_type": "stream",
     "text": [
      "/tmp/ipykernel_3046/2675486493.py:4: DeprecationWarning: NumPy will stop allowing conversion of out-of-bound Python integers to integer arrays.  The conversion of -1 to uint16 will fail in the future.\n",
      "For the old behavior, usually:\n",
      "    np.array(value).astype(dtype)`\n",
      "will give the desired result (the cast overflows).\n",
      "  geom[geom > 0] = -1\n"
     ]
    }
   ],
   "source": [
    "mat_nse = make_nse_geom(mat_file)"
   ]
  },
  {
   "cell_type": "code",
   "execution_count": 55,
   "metadata": {},
   "outputs": [
    {
     "name": "stderr",
     "output_type": "stream",
     "text": [
      "/tmp/ipykernel_3046/2675486493.py:4: DeprecationWarning: NumPy will stop allowing conversion of out-of-bound Python integers to integer arrays.  The conversion of -1 to uint16 will fail in the future.\n",
      "For the old behavior, usually:\n",
      "    np.array(value).astype(dtype)`\n",
      "will give the desired result (the cast overflows).\n",
      "  geom[geom > 0] = -1\n"
     ]
    }
   ],
   "source": [
    "for mat1 in os.listdir(data_root + '/train'):\n",
    "    mat_file = io.loadmat(data_root + '/train/' + mat1)\n",
    "    mat_nse = make_nse_geom(mat_file)\n",
    "\n",
    "    io.savemat(nse_geom_path + '/train/' + mat1,mat_nse)"
   ]
  },
  {
   "cell_type": "code",
   "execution_count": null,
   "metadata": {},
   "outputs": [],
   "source": []
  }
 ],
 "metadata": {
  "kernelspec": {
   "display_name": "pi-unet-hsl-tfp",
   "language": "python",
   "name": "python3"
  },
  "language_info": {
   "codemirror_mode": {
    "name": "ipython",
    "version": 3
   },
   "file_extension": ".py",
   "mimetype": "text/x-python",
   "name": "python",
   "nbconvert_exporter": "python",
   "pygments_lexer": "ipython3",
   "version": "3.10.14"
  }
 },
 "nbformat": 4,
 "nbformat_minor": 2
}
